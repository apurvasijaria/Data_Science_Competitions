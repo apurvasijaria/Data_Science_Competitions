{
 "cells": [
  {
   "cell_type": "code",
   "execution_count": 1,
   "metadata": {},
   "outputs": [
    {
     "name": "stdout",
     "output_type": "stream",
     "text": [
      "11000000\n",
      "11,000,000\n"
     ]
    }
   ],
   "source": [
    "##Underscore sign do not affect numbers in python\n",
    "x = 10_000_000\n",
    "y = 1_000_000\n",
    "print(x+y)\n",
    "print(f'{x+y:,}')"
   ]
  },
  {
   "cell_type": "code",
   "execution_count": null,
   "metadata": {},
   "outputs": [],
   "source": [
    "#https://www.youtube.com/watch?v=C-gEQdGVXbk"
   ]
  },
  {
   "cell_type": "code",
   "execution_count": 6,
   "metadata": {},
   "outputs": [
    {
     "name": "stdout",
     "output_type": "stream",
     "text": [
      "1 tom\n",
      "2 atticus\n",
      "3 jeremy\n"
     ]
    }
   ],
   "source": [
    "names = ['tom','atticus','jeremy']\n",
    "for i,n in enumerate(names,start = 1):\n",
    "    print(i,n)"
   ]
  },
  {
   "cell_type": "code",
   "execution_count": null,
   "metadata": {},
   "outputs": [],
   "source": [
    "def shift(A,k):\n",
    "    n = ()"
   ]
  }
 ],
 "metadata": {
  "kernelspec": {
   "display_name": "Python 3",
   "language": "python",
   "name": "python3"
  },
  "language_info": {
   "codemirror_mode": {
    "name": "ipython",
    "version": 3
   },
   "file_extension": ".py",
   "mimetype": "text/x-python",
   "name": "python",
   "nbconvert_exporter": "python",
   "pygments_lexer": "ipython3",
   "version": "3.8.3"
  }
 },
 "nbformat": 4,
 "nbformat_minor": 4
}
