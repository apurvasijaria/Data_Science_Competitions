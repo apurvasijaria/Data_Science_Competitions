{
 "cells": [
  {
   "cell_type": "code",
   "execution_count": 1,
   "metadata": {},
   "outputs": [],
   "source": [
    "import pandas as pd\n",
    "import numpy as np\n",
    "import matplotlib.pyplot as plt\n",
    "import seaborn as sns\n",
    "import pickle \n",
    "import os"
   ]
  },
  {
   "cell_type": "code",
   "execution_count": 2,
   "metadata": {},
   "outputs": [],
   "source": [
    "train = pd.read_csv('../datasets/train_cleaned.csv')\n",
    "test = pd.read_csv('../datasets/test_cleaned.csv')"
   ]
  },
  {
   "cell_type": "code",
   "execution_count": 3,
   "metadata": {},
   "outputs": [],
   "source": [
    "train_y = train.Is_Lead\n",
    "train_x = train[train.drop(['Age','Vintage_yrs','Is_Lead','ID'],axis = 1,inplace = False).columns[0:14]]\n",
    "train_id = train.ID"
   ]
  },
  {
   "cell_type": "code",
   "execution_count": 4,
   "metadata": {},
   "outputs": [
    {
     "data": {
      "text/html": [
       "<div>\n",
       "<style scoped>\n",
       "    .dataframe tbody tr th:only-of-type {\n",
       "        vertical-align: middle;\n",
       "    }\n",
       "\n",
       "    .dataframe tbody tr th {\n",
       "        vertical-align: top;\n",
       "    }\n",
       "\n",
       "    .dataframe thead th {\n",
       "        text-align: right;\n",
       "    }\n",
       "</style>\n",
       "<table border=\"1\" class=\"dataframe\">\n",
       "  <thead>\n",
       "    <tr style=\"text-align: right;\">\n",
       "      <th></th>\n",
       "      <th>Gender</th>\n",
       "      <th>Vintage</th>\n",
       "      <th>Credit_Product</th>\n",
       "      <th>Avg_Account_Balance</th>\n",
       "      <th>Is_Active</th>\n",
       "      <th>age_group</th>\n",
       "      <th>Region_Code_enc</th>\n",
       "      <th>Occ_Entrepreneur</th>\n",
       "      <th>Occ_Salaried</th>\n",
       "      <th>Occ_Self_Employed</th>\n",
       "      <th>Channel_Code_X1</th>\n",
       "      <th>Channel_Code_X2</th>\n",
       "      <th>Channel_Code_X3</th>\n",
       "      <th>Channel_Code_X4</th>\n",
       "    </tr>\n",
       "  </thead>\n",
       "  <tbody>\n",
       "    <tr>\n",
       "      <th>0</th>\n",
       "      <td>0</td>\n",
       "      <td>43</td>\n",
       "      <td>0</td>\n",
       "      <td>1045696</td>\n",
       "      <td>0</td>\n",
       "      <td>4</td>\n",
       "      <td>18</td>\n",
       "      <td>0</td>\n",
       "      <td>0</td>\n",
       "      <td>0</td>\n",
       "      <td>0</td>\n",
       "      <td>0</td>\n",
       "      <td>1</td>\n",
       "      <td>0</td>\n",
       "    </tr>\n",
       "    <tr>\n",
       "      <th>1</th>\n",
       "      <td>0</td>\n",
       "      <td>32</td>\n",
       "      <td>0</td>\n",
       "      <td>581988</td>\n",
       "      <td>0</td>\n",
       "      <td>1</td>\n",
       "      <td>27</td>\n",
       "      <td>0</td>\n",
       "      <td>1</td>\n",
       "      <td>0</td>\n",
       "      <td>1</td>\n",
       "      <td>0</td>\n",
       "      <td>0</td>\n",
       "      <td>0</td>\n",
       "    </tr>\n",
       "    <tr>\n",
       "      <th>2</th>\n",
       "      <td>0</td>\n",
       "      <td>26</td>\n",
       "      <td>0</td>\n",
       "      <td>1484315</td>\n",
       "      <td>1</td>\n",
       "      <td>3</td>\n",
       "      <td>18</td>\n",
       "      <td>0</td>\n",
       "      <td>0</td>\n",
       "      <td>1</td>\n",
       "      <td>0</td>\n",
       "      <td>0</td>\n",
       "      <td>1</td>\n",
       "      <td>0</td>\n",
       "    </tr>\n",
       "    <tr>\n",
       "      <th>3</th>\n",
       "      <td>1</td>\n",
       "      <td>19</td>\n",
       "      <td>0</td>\n",
       "      <td>470454</td>\n",
       "      <td>0</td>\n",
       "      <td>1</td>\n",
       "      <td>20</td>\n",
       "      <td>0</td>\n",
       "      <td>1</td>\n",
       "      <td>0</td>\n",
       "      <td>1</td>\n",
       "      <td>0</td>\n",
       "      <td>0</td>\n",
       "      <td>0</td>\n",
       "    </tr>\n",
       "    <tr>\n",
       "      <th>4</th>\n",
       "      <td>0</td>\n",
       "      <td>33</td>\n",
       "      <td>0</td>\n",
       "      <td>886787</td>\n",
       "      <td>0</td>\n",
       "      <td>1</td>\n",
       "      <td>32</td>\n",
       "      <td>0</td>\n",
       "      <td>1</td>\n",
       "      <td>0</td>\n",
       "      <td>1</td>\n",
       "      <td>0</td>\n",
       "      <td>0</td>\n",
       "      <td>0</td>\n",
       "    </tr>\n",
       "  </tbody>\n",
       "</table>\n",
       "</div>"
      ],
      "text/plain": [
       "   Gender  Vintage  Credit_Product  Avg_Account_Balance  Is_Active  age_group  \\\n",
       "0       0       43               0              1045696          0          4   \n",
       "1       0       32               0               581988          0          1   \n",
       "2       0       26               0              1484315          1          3   \n",
       "3       1       19               0               470454          0          1   \n",
       "4       0       33               0               886787          0          1   \n",
       "\n",
       "   Region_Code_enc  Occ_Entrepreneur  Occ_Salaried  Occ_Self_Employed  \\\n",
       "0               18                 0             0                  0   \n",
       "1               27                 0             1                  0   \n",
       "2               18                 0             0                  1   \n",
       "3               20                 0             1                  0   \n",
       "4               32                 0             1                  0   \n",
       "\n",
       "   Channel_Code_X1  Channel_Code_X2  Channel_Code_X3  Channel_Code_X4  \n",
       "0                0                0                1                0  \n",
       "1                1                0                0                0  \n",
       "2                0                0                1                0  \n",
       "3                1                0                0                0  \n",
       "4                1                0                0                0  "
      ]
     },
     "execution_count": 4,
     "metadata": {},
     "output_type": "execute_result"
    }
   ],
   "source": [
    "train_x.head(5)"
   ]
  },
  {
   "cell_type": "code",
   "execution_count": 5,
   "metadata": {},
   "outputs": [],
   "source": [
    "from sklearn.preprocessing import MinMaxScaler\n",
    "\n",
    "train_x  = pd.DataFrame(MinMaxScaler().fit_transform(train_x),columns = train_x.columns) "
   ]
  },
  {
   "cell_type": "code",
   "execution_count": 6,
   "metadata": {},
   "outputs": [],
   "source": [
    "from sklearn.model_selection import train_test_split\n",
    "\n",
    "X_train,X_test,y_train,y_test = train_test_split(train_x,train_y,test_size = 0.25,random_state = 42 )"
   ]
  },
  {
   "cell_type": "code",
   "execution_count": 7,
   "metadata": {},
   "outputs": [],
   "source": [
    "## Used in below models for cross validation accuracy\n",
    "from sklearn.metrics import confusion_matrix, f1_score,precision_score,recall_score\n",
    "\n",
    "def accuracy (act,pred):\n",
    "    print('Confusion Matrix:\\n',confusion_matrix(act,pred))\n",
    "    print('Precision score: {:.4f}'.format(precision_score(act,pred)))\n",
    "    print('Recall score: {:.4f}'.format(recall_score(act,pred)))\n",
    "    print('F1 score: {:.4f}'.format(f1_score(act,pred)))"
   ]
  },
  {
   "cell_type": "code",
   "execution_count": 8,
   "metadata": {},
   "outputs": [],
   "source": [
    "## Used in below models to visualize the precision recall tradeoff and auc score and roc curve\n",
    "from sklearn.metrics import precision_recall_curve\n",
    "from sklearn.metrics import roc_curve\n",
    "\n",
    "\n",
    "def plot_precision_recall_vs_threshold(precisions, recalls, thresholds):\n",
    "    plt.plot(thresholds, precisions[:-1], \"b--\", label=\"Precision\")\n",
    "    plt.plot(thresholds, recalls[:-1], \"g-\", label=\"Recall\")\n",
    "    plt.grid()\n",
    "    plt.legend()\n",
    "    plt.xlabel('Threshold')\n",
    "    plt.show()\n",
    "\n",
    "def plot_roc_curve (fpr, tpr, label = None):\n",
    "    plt.plot(fpr, tpr, linewidth=2, label=label)\n",
    "    plt.plot([0,1],[0,1],'k--')\n",
    "    plt.grid()\n",
    "    plt.xlabel(\"False Positive Rate\")\n",
    "    plt.ylabel(\"True Posiitve Rate\")\n",
    "    plt.show()\n",
    "\n",
    "def plot_prt_roc(tr,scores):\n",
    "    precisions,recalls,thresholds = precision_recall_curve(tr,scores)\n",
    "    plot_precision_recall_vs_threshold(precisions, recalls, thresholds)\n",
    "    fpr, tpr, threshold = roc_curve(tr,scores)\n",
    "    plot_roc_curve(fpr,tpr)\n",
    "    plt.show()  "
   ]
  },
  {
   "cell_type": "code",
   "execution_count": 9,
   "metadata": {},
   "outputs": [
    {
     "name": "stdout",
     "output_type": "stream",
     "text": [
      "[0.76635286 0.76659703 0.76480642 0.76686201 0.76583103]\n",
      "Confusion Matrix:\n",
      " [[46676   219]\n",
      " [14104   433]]\n",
      "Precision score: 0.6641\n",
      "Recall score: 0.0298\n",
      "F1 score: 0.0570\n"
     ]
    },
    {
     "data": {
      "image/png": "[encoded data removed]",
      "text/plain": [
       "<Figure size 432x288 with 1 Axes>"
      ]
     },
     "metadata": {
      "needs_background": "light"
     },
     "output_type": "display_data"
    },
    {
     "data": {
      "image/png": "[encoded data removed]",
      "text/plain": [
       "<Figure size 432x288 with 1 Axes>"
      ]
     },
     "metadata": {
      "needs_background": "light"
     },
     "output_type": "display_data"
    },
    {
     "data": {
      "text/plain": [
       "SGDClassifier(random_state=42)"
      ]
     },
     "execution_count": 9,
     "metadata": {},
     "output_type": "execute_result"
    }
   ],
   "source": [
    "from sklearn.linear_model import SGDClassifier\n",
    "from sklearn.model_selection import cross_val_score\n",
    "from sklearn.model_selection import cross_val_predict\n",
    "\n",
    "sgd_clf = SGDClassifier(random_state =42)\n",
    "\n",
    "## Fitting the model\n",
    "sgd_clf.fit(X_train,y_train)\n",
    "print(cross_val_score(sgd_clf,X_train,y_train,cv=5,scoring=\"accuracy\"))\n",
    "\n",
    "## Predicting on the test set\n",
    "sgd_pred = sgd_clf.predict(X_test)\n",
    "\n",
    "## Checking accuracy metrics by function defined above\n",
    "accuracy(y_test,sgd_pred)\n",
    "\n",
    "## PLotting the AUC ROC Curve and Precision vs Recall Curve\n",
    "y_scores = cross_val_predict(sgd_clf, X_train, y_train, cv=5,method=\"decision_function\")\n",
    "plot_prt_roc(y_train,y_scores)\n",
    "\n",
    "sgd_clf.fit(train_x,train_y)"
   ]
  },
  {
   "cell_type": "code",
   "execution_count": null,
   "metadata": {},
   "outputs": [],
   "source": [
    "filename = '../models/sgd_clf.sav'\n",
    "pickle.dump(sgd_clf, open(filename, 'wb'))"
   ]
  },
  {
   "cell_type": "code",
   "execution_count": 10,
   "metadata": {},
   "outputs": [
    {
     "name": "stdout",
     "output_type": "stream",
     "text": [
      "[0.77012399 0.76795355 0.76694973 0.76973791 0.76862554]\n",
      "Confusion Matrix:\n",
      " [[43356  3539]\n",
      " [10766  3771]]\n",
      "Precision score: 0.5159\n",
      "Recall score: 0.2594\n",
      "F1 score: 0.3452\n"
     ]
    },
    {
     "data": {
      "image/png": "[encoded data removed]",
      "text/plain": [
       "<Figure size 432x288 with 1 Axes>"
      ]
     },
     "metadata": {
      "needs_background": "light"
     },
     "output_type": "display_data"
    },
    {
     "data": {
      "image/png": "[encoded data removed]",
      "text/plain": [
       "<Figure size 432x288 with 1 Axes>"
      ]
     },
     "metadata": {
      "needs_background": "light"
     },
     "output_type": "display_data"
    },
    {
     "data": {
      "text/plain": [
       "LogisticRegression(random_state=42)"
      ]
     },
     "execution_count": 10,
     "metadata": {},
     "output_type": "execute_result"
    }
   ],
   "source": [
    "from sklearn.linear_model import LogisticRegression\n",
    "\n",
    "log_clf = LogisticRegression(random_state =42)\n",
    "\n",
    "## Fitting the model\n",
    "log_clf.fit(X_train,y_train)\n",
    "print(cross_val_score(log_clf,X_train,y_train,cv=5,scoring=\"accuracy\"))\n",
    "\n",
    "## Predicting on the test set\n",
    "log_pred = log_clf.predict(X_test)\n",
    "\n",
    "## Checking accuracy metrics by function defined above\n",
    "accuracy(y_test,log_pred)\n",
    "\n",
    "## PLotting the AUC ROC Curve and Precision vs Recall Curve\n",
    "y_scores = cross_val_predict(log_clf, X_train, y_train, cv=5,method=\"decision_function\")\n",
    "plot_prt_roc(y_train,y_scores)\n",
    "\n",
    "log_clf.fit(train_x,train_y)"
   ]
  },
  {
   "cell_type": "code",
   "execution_count": null,
   "metadata": {},
   "outputs": [],
   "source": [
    "filename = '../models/log_clf.sav'\n",
    "pickle.dump(log_clf, open(filename, 'wb'))"
   ]
  },
  {
   "cell_type": "code",
   "execution_count": 11,
   "metadata": {},
   "outputs": [
    {
     "data": {
      "text/plain": [
       "<matplotlib.axes._subplots.AxesSubplot at 0x16b024010a0>"
      ]
     },
     "execution_count": 11,
     "metadata": {},
     "output_type": "execute_result"
    },
    {
     "data": {
      "image/png": "[encoded data removed]",
      "text/plain": [
       "<Figure size 432x288 with 1 Axes>"
      ]
     },
     "metadata": {
      "needs_background": "light"
     },
     "output_type": "display_data"
    }
   ],
   "source": [
    "feat_importances = pd.Series(log_clf.coef_[0], index=train_x.columns[0:14])\n",
    "feat_importances.nlargest(14).plot(kind='barh')"
   ]
  },
  {
   "cell_type": "code",
   "execution_count": null,
   "metadata": {},
   "outputs": [],
   "source": [
    "from sklearn.svm import SVC\n",
    "\n",
    "## Fitting the model\n",
    "svm_clf = SVC(random_state =42)\n",
    "svm_clf.fit(X_train,y_train)\n",
    "print(cross_val_score(svm_clf,X_train,y_train,cv=5,scoring=\"accuracy\"))\n",
    "\n",
    "## Predicting on the test set\n",
    "svc_pred = svm_clf.predict(X_test)\n",
    "\n",
    "## Checking accuracy metrics by function defined above\n",
    "accuracy(y_test,svc_pred)\n",
    "\n",
    "## PLotting the AUC ROC Curve and Precision vs Recall Curve\n",
    "y_scores = cross_val_predict(svm_clf, X_train, y_train, cv=5,method=\"decision_function\")\n",
    "plot_prt_roc(y_train,y_scores)\n",
    "\n",
    "svm_clf.fit(train_x,train_y)"
   ]
  },
  {
   "cell_type": "code",
   "execution_count": null,
   "metadata": {},
   "outputs": [],
   "source": [
    "filename = '../models/svm_clf.sav'\n",
    "pickle.dump(svm_clf, open(filename, 'wb'))"
   ]
  },
  {
   "cell_type": "code",
   "execution_count": null,
   "metadata": {},
   "outputs": [],
   "source": [
    "from sklearn.ensemble import RandomForestClassifier\n",
    "\n",
    "## Fitting the model\n",
    "rf_clf = RandomForestClassifier(random_state =42)\n",
    "rf_clf.fit(X_train,y_train)\n",
    "print(cross_val_score(rf_clf,X_train,y_train,cv=5,scoring=\"accuracy\"))\n",
    "\n",
    "## Predicting on the test set\n",
    "rf_pred = rf_clf.predict(X_test)\n",
    "\n",
    "## Checking accuracy metrics by function defined above\n",
    "accuracy(y_test,rf_pred)\n",
    "\n",
    "#rf_clf.fit(train_x,train_y)"
   ]
  },
  {
   "cell_type": "code",
   "execution_count": null,
   "metadata": {},
   "outputs": [],
   "source": [
    "feat_importances = pd.Series(rf_clf.feature_importances_, index=X_train.columns[0:14])\n",
    "feat_importances.nlargest(14).plot(kind='barh')\n",
    "feat_importances"
   ]
  },
  {
   "cell_type": "code",
   "execution_count": null,
   "metadata": {},
   "outputs": [],
   "source": [
    "filename = '../models/rf_clf.sav'\n",
    "pickle.dump(rf_clf, open(filename, 'wb'))"
   ]
  },
  {
   "cell_type": "code",
   "execution_count": 52,
   "metadata": {},
   "outputs": [
    {
     "name": "stderr",
     "output_type": "stream",
     "text": [
      "C:\\Users\\apurv\\anaconda3\\lib\\site-packages\\pandas\\core\\frame.py:3990: SettingWithCopyWarning: \n",
      "A value is trying to be set on a copy of a slice from a DataFrame\n",
      "\n",
      "See the caveats in the documentation: https://pandas.pydata.org/pandas-docs/stable/user_guide/indexing.html#returning-a-view-versus-a-copy\n",
      "  return super().drop(\n"
     ]
    },
    {
     "data": {
      "text/plain": [
       "Index(['Vintage', 'Credit_Product', 'Avg_Account_Balance', 'age_group',\n",
       "       'Region_Code_enc', 'Occ_Salaried', 'Channel_Code_X1'],\n",
       "      dtype='object')"
      ]
     },
     "execution_count": 52,
     "metadata": {},
     "output_type": "execute_result"
    }
   ],
   "source": [
    "col = ['Occ_Self_Employed','Gender','Is_Active']\n",
    "X_train.drop(col,axis = 1,inplace = True)\n",
    "X_test.drop(col,axis = 1,inplace = True)\n",
    "X_train.columns"
   ]
  },
  {
   "cell_type": "code",
   "execution_count": 57,
   "metadata": {},
   "outputs": [],
   "source": [
    "xgb_params= {'n_estimators': 20000, \n",
    "             'max_depth': 6, \n",
    "             'learning_rate': 0.0201, \n",
    "             'reg_lambda': 29.326, \n",
    "             'subsample': 0.818, \n",
    "             'colsample_bytree': 0.235, \n",
    "             'colsample_bynode': 0.820, \n",
    "             'colsample_bylevel': 0.453}"
   ]
  },
  {
   "cell_type": "code",
   "execution_count": null,
   "metadata": {
    "scrolled": true
   },
   "outputs": [],
   "source": [
    "from xgboost import XGBClassifier\n",
    "\n",
    "## Fitting the model\n",
    "xgb_clf = XGBClassifier(random_state =42)\n",
    "xgb_clf.fit(X_train,y_train)\n",
    "print(cross_val_score(xgb_clf,X_train,y_train,cv=9,scoring=\"accuracy\"))\n",
    "\n",
    "## Predicting on the test set\n",
    "xgb_pred= xgb_clf.predict(X_test)\n",
    "\n",
    "## Checking accuracy metrics by function defined above\n",
    "accuracy(y_test,xgb_pred)"
   ]
  },
  {
   "cell_type": "code",
   "execution_count": null,
   "metadata": {},
   "outputs": [],
   "source": [
    "filename = '../models/xgb_clf.sav'\n",
    "pickle.dump(xgb_clf, open(filename, 'wb'))"
   ]
  },
  {
   "cell_type": "code",
   "execution_count": 55,
   "metadata": {},
   "outputs": [],
   "source": [
    "models_to_test = [rf_clf] \n",
    "test_prep = test[X_test.columns]\n",
    "test_prep  = pd.DataFrame(MinMaxScaler().fit_transform(test_prep),columns = test_prep.columns)\n",
    "\n",
    "for model in models_to_test:\n",
    "    test_pred = model.predict(test_prep)\n",
    "    submit = pd.DataFrame({'ID':test.ID,'Is_Lead':test_pred})  \n",
    "    submit.to_csv(''.join([\"../submissions/\",str(model),\".csv\"]),index = False)"
   ]
  }
 ],
 "metadata": {
  "kernelspec": {
   "display_name": "Python 3",
   "language": "python",
   "name": "python3"
  },
  "language_info": {
   "codemirror_mode": {
    "name": "ipython",
    "version": 3
   },
   "file_extension": ".py",
   "mimetype": "text/x-python",
   "name": "python",
   "nbconvert_exporter": "python",
   "pygments_lexer": "ipython3",
   "version": "3.8.3"
  }
 },
 "nbformat": 4,
 "nbformat_minor": 4
}
