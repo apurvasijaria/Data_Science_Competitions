{
 "cells": [
  {
   "cell_type": "markdown",
   "id": "d15a340c",
   "metadata": {},
   "source": [
    "#### Loading Libraries"
   ]
  },
  {
   "cell_type": "code",
   "execution_count": 1,
   "id": "9060e51b",
   "metadata": {},
   "outputs": [],
   "source": [
    "import pandas as pd\n",
    "import numpy as np\n",
    "import matplotlib.pyplot as plt\n",
    "import seaborn as sns"
   ]
  },
  {
   "cell_type": "markdown",
   "id": "755f1943",
   "metadata": {},
   "source": [
    "#### Loading Datasets"
   ]
  },
  {
   "cell_type": "code",
   "execution_count": 2,
   "id": "287ac388",
   "metadata": {},
   "outputs": [],
   "source": [
    "train = pd.read_csv('../data/train_cleaned.csv')\n",
    "test = pd.read_csv('../data/test_cleaned.csv')"
   ]
  },
  {
   "cell_type": "code",
   "execution_count": 3,
   "id": "aca06251",
   "metadata": {},
   "outputs": [
    {
     "data": {
      "text/html": [
       "<div>\n",
       "<style scoped>\n",
       "    .dataframe tbody tr th:only-of-type {\n",
       "        vertical-align: middle;\n",
       "    }\n",
       "\n",
       "    .dataframe tbody tr th {\n",
       "        vertical-align: top;\n",
       "    }\n",
       "\n",
       "    .dataframe thead th {\n",
       "        text-align: right;\n",
       "    }\n",
       "</style>\n",
       "<table border=\"1\" class=\"dataframe\">\n",
       "  <thead>\n",
       "    <tr style=\"text-align: right;\">\n",
       "      <th></th>\n",
       "      <th>ID</th>\n",
       "      <th>Title</th>\n",
       "      <th>Domain</th>\n",
       "      <th>original_title</th>\n",
       "      <th>text_words</th>\n",
       "      <th>text_digit_cnt</th>\n",
       "      <th>clean_text_lem</th>\n",
       "      <th>clean_text_wrds</th>\n",
       "      <th>clean_text</th>\n",
       "      <th>title_polarity</th>\n",
       "      <th>...</th>\n",
       "      <th>char_count</th>\n",
       "      <th>word_density</th>\n",
       "      <th>punctuation_count</th>\n",
       "      <th>title_word_count</th>\n",
       "      <th>upper_case_word_count</th>\n",
       "      <th>noun_count</th>\n",
       "      <th>verb_count</th>\n",
       "      <th>adj_count</th>\n",
       "      <th>adv_count</th>\n",
       "      <th>pron_count</th>\n",
       "    </tr>\n",
       "  </thead>\n",
       "  <tbody>\n",
       "    <tr>\n",
       "      <th>0</th>\n",
       "      <td>1</td>\n",
       "      <td>what is good in a decision tree a large or a s...</td>\n",
       "      <td>Techniques</td>\n",
       "      <td>what is good in a decision tree a large or a s...</td>\n",
       "      <td>['what', 'is', 'good', 'in', 'a', 'decision', ...</td>\n",
       "      <td>0</td>\n",
       "      <td>['what', 'is', 'good', 'in', 'a', 'decision', ...</td>\n",
       "      <td>['good', 'decision', 'tree', 'large', 'small',...</td>\n",
       "      <td>good decision tree large small leaf size</td>\n",
       "      <td>0.221429</td>\n",
       "      <td>...</td>\n",
       "      <td>40</td>\n",
       "      <td>2.666667</td>\n",
       "      <td>0</td>\n",
       "      <td>0</td>\n",
       "      <td>0</td>\n",
       "      <td>0</td>\n",
       "      <td>0</td>\n",
       "      <td>0</td>\n",
       "      <td>0</td>\n",
       "      <td>0</td>\n",
       "    </tr>\n",
       "    <tr>\n",
       "      <th>1</th>\n",
       "      <td>2</td>\n",
       "      <td>training data only contains single positive label</td>\n",
       "      <td>Techniques</td>\n",
       "      <td>training data only contains single positive label</td>\n",
       "      <td>['training', 'data', 'only', 'contains', 'sing...</td>\n",
       "      <td>0</td>\n",
       "      <td>['training', 'data', 'only', 'contains', 'sing...</td>\n",
       "      <td>['training', 'data', 'contains', 'single', 'po...</td>\n",
       "      <td>training data contains single positive label</td>\n",
       "      <td>0.051948</td>\n",
       "      <td>...</td>\n",
       "      <td>44</td>\n",
       "      <td>5.500000</td>\n",
       "      <td>0</td>\n",
       "      <td>0</td>\n",
       "      <td>0</td>\n",
       "      <td>0</td>\n",
       "      <td>0</td>\n",
       "      <td>0</td>\n",
       "      <td>0</td>\n",
       "      <td>0</td>\n",
       "    </tr>\n",
       "    <tr>\n",
       "      <th>2</th>\n",
       "      <td>3</td>\n",
       "      <td>calculating percentage contribution of a negat...</td>\n",
       "      <td>Techniques</td>\n",
       "      <td>calculating percentage contribution of a negat...</td>\n",
       "      <td>['calculating', 'percentage', 'contribution', ...</td>\n",
       "      <td>0</td>\n",
       "      <td>['calculating', 'percentage', 'contribution', ...</td>\n",
       "      <td>['calculating', 'percentage', 'contribution', ...</td>\n",
       "      <td>calculating percentage contribution negative c...</td>\n",
       "      <td>-0.300000</td>\n",
       "      <td>...</td>\n",
       "      <td>54</td>\n",
       "      <td>6.750000</td>\n",
       "      <td>0</td>\n",
       "      <td>0</td>\n",
       "      <td>0</td>\n",
       "      <td>0</td>\n",
       "      <td>0</td>\n",
       "      <td>0</td>\n",
       "      <td>0</td>\n",
       "      <td>0</td>\n",
       "    </tr>\n",
       "    <tr>\n",
       "      <th>3</th>\n",
       "      <td>4</td>\n",
       "      <td>unable to open solution checker</td>\n",
       "      <td>Hackathons</td>\n",
       "      <td>unable to open solution checker</td>\n",
       "      <td>['unable', 'to', 'open', 'solution', 'checker']</td>\n",
       "      <td>0</td>\n",
       "      <td>['unable', 'to', 'open', 'solution', 'checker']</td>\n",
       "      <td>['unable', 'open', 'solution', 'checker']</td>\n",
       "      <td>unable open solution checker</td>\n",
       "      <td>-0.250000</td>\n",
       "      <td>...</td>\n",
       "      <td>28</td>\n",
       "      <td>4.666667</td>\n",
       "      <td>0</td>\n",
       "      <td>0</td>\n",
       "      <td>0</td>\n",
       "      <td>0</td>\n",
       "      <td>0</td>\n",
       "      <td>0</td>\n",
       "      <td>0</td>\n",
       "      <td>0</td>\n",
       "    </tr>\n",
       "    <tr>\n",
       "      <th>4</th>\n",
       "      <td>5</td>\n",
       "      <td>user name change</td>\n",
       "      <td>Misc</td>\n",
       "      <td>user name change</td>\n",
       "      <td>['user', 'name', 'change']</td>\n",
       "      <td>0</td>\n",
       "      <td>['user', 'name', 'change']</td>\n",
       "      <td>['user', 'name', 'change']</td>\n",
       "      <td>user name change</td>\n",
       "      <td>0.000000</td>\n",
       "      <td>...</td>\n",
       "      <td>16</td>\n",
       "      <td>4.000000</td>\n",
       "      <td>0</td>\n",
       "      <td>0</td>\n",
       "      <td>0</td>\n",
       "      <td>0</td>\n",
       "      <td>0</td>\n",
       "      <td>0</td>\n",
       "      <td>0</td>\n",
       "      <td>0</td>\n",
       "    </tr>\n",
       "  </tbody>\n",
       "</table>\n",
       "<p>5 rows × 22 columns</p>\n",
       "</div>"
      ],
      "text/plain": [
       "   ID                                              Title      Domain  \\\n",
       "0   1  what is good in a decision tree a large or a s...  Techniques   \n",
       "1   2  training data only contains single positive label  Techniques   \n",
       "2   3  calculating percentage contribution of a negat...  Techniques   \n",
       "3   4                    unable to open solution checker  Hackathons   \n",
       "4   5                                   user name change        Misc   \n",
       "\n",
       "                                      original_title  \\\n",
       "0  what is good in a decision tree a large or a s...   \n",
       "1  training data only contains single positive label   \n",
       "2  calculating percentage contribution of a negat...   \n",
       "3                    unable to open solution checker   \n",
       "4                                   user name change   \n",
       "\n",
       "                                          text_words  text_digit_cnt  \\\n",
       "0  ['what', 'is', 'good', 'in', 'a', 'decision', ...               0   \n",
       "1  ['training', 'data', 'only', 'contains', 'sing...               0   \n",
       "2  ['calculating', 'percentage', 'contribution', ...               0   \n",
       "3    ['unable', 'to', 'open', 'solution', 'checker']               0   \n",
       "4                         ['user', 'name', 'change']               0   \n",
       "\n",
       "                                      clean_text_lem  \\\n",
       "0  ['what', 'is', 'good', 'in', 'a', 'decision', ...   \n",
       "1  ['training', 'data', 'only', 'contains', 'sing...   \n",
       "2  ['calculating', 'percentage', 'contribution', ...   \n",
       "3    ['unable', 'to', 'open', 'solution', 'checker']   \n",
       "4                         ['user', 'name', 'change']   \n",
       "\n",
       "                                     clean_text_wrds  \\\n",
       "0  ['good', 'decision', 'tree', 'large', 'small',...   \n",
       "1  ['training', 'data', 'contains', 'single', 'po...   \n",
       "2  ['calculating', 'percentage', 'contribution', ...   \n",
       "3          ['unable', 'open', 'solution', 'checker']   \n",
       "4                         ['user', 'name', 'change']   \n",
       "\n",
       "                                          clean_text  title_polarity  ...  \\\n",
       "0           good decision tree large small leaf size        0.221429  ...   \n",
       "1       training data contains single positive label        0.051948  ...   \n",
       "2  calculating percentage contribution negative c...       -0.300000  ...   \n",
       "3                       unable open solution checker       -0.250000  ...   \n",
       "4                                   user name change        0.000000  ...   \n",
       "\n",
       "   char_count  word_density  punctuation_count  title_word_count  \\\n",
       "0          40      2.666667                  0                 0   \n",
       "1          44      5.500000                  0                 0   \n",
       "2          54      6.750000                  0                 0   \n",
       "3          28      4.666667                  0                 0   \n",
       "4          16      4.000000                  0                 0   \n",
       "\n",
       "   upper_case_word_count  noun_count  verb_count  adj_count  adv_count  \\\n",
       "0                      0           0           0          0          0   \n",
       "1                      0           0           0          0          0   \n",
       "2                      0           0           0          0          0   \n",
       "3                      0           0           0          0          0   \n",
       "4                      0           0           0          0          0   \n",
       "\n",
       "   pron_count  \n",
       "0           0  \n",
       "1           0  \n",
       "2           0  \n",
       "3           0  \n",
       "4           0  \n",
       "\n",
       "[5 rows x 22 columns]"
      ]
     },
     "execution_count": 3,
     "metadata": {},
     "output_type": "execute_result"
    }
   ],
   "source": [
    "train.head()"
   ]
  },
  {
   "cell_type": "markdown",
   "id": "b296e6c8",
   "metadata": {},
   "source": [
    "#### Checking collienearity and removing similar variables\n",
    "\n",
    "Since we added a lot of features based on common variables, high multicollinearity is suspected. We need to eliminate highly corelated variables which have low correlation with Loan Status. These variables are noise in the data"
   ]
  },
  {
   "cell_type": "code",
   "execution_count": 4,
   "id": "5e893fbf",
   "metadata": {},
   "outputs": [
    {
     "name": "stderr",
     "output_type": "stream",
     "text": [
      "/tmp/ipykernel_65801/1918034925.py:1: FutureWarning: The default value of numeric_only in DataFrame.corr is deprecated. In a future version, it will default to False. Select only valid columns or specify the value of numeric_only to silence this warning.\n",
      "  upper = train.corr().where(np.triu(np.ones(train.corr().shape), k=1).astype(np.bool))\n",
      "/tmp/ipykernel_65801/1918034925.py:1: DeprecationWarning: `np.bool` is a deprecated alias for the builtin `bool`. To silence this warning, use `bool` by itself. Doing this will not modify any behavior and is safe. If you specifically wanted the numpy scalar type, use `np.bool_` here.\n",
      "Deprecated in NumPy 1.20; for more details and guidance: https://numpy.org/devdocs/release/1.20.0-notes.html#deprecations\n",
      "  upper = train.corr().where(np.triu(np.ones(train.corr().shape), k=1).astype(np.bool))\n"
     ]
    }
   ],
   "source": [
    "upper = train.corr().where(np.triu(np.ones(train.corr().shape), k=1).astype(np.bool))"
   ]
  },
  {
   "cell_type": "code",
   "execution_count": 5,
   "id": "6a87e762",
   "metadata": {},
   "outputs": [
    {
     "data": {
      "text/plain": [
       "<Axes: >"
      ]
     },
     "execution_count": 5,
     "metadata": {},
     "output_type": "execute_result"
    },
    {
     "data": {
      "image/png": "[encoded data removed]",
      "text/plain": [
       "<Figure size 1440x720 with 2 Axes>"
      ]
     },
     "metadata": {
      "needs_background": "light"
     },
     "output_type": "display_data"
    }
   ],
   "source": [
    "plt.figure(figsize = (20,10))\n",
    "sns.heatmap(upper, annot = True,fmt='.1g', cbar_kws= {'orientation': 'horizontal'} )"
   ]
  },
  {
   "cell_type": "code",
   "execution_count": null,
   "id": "272f022e",
   "metadata": {},
   "outputs": [],
   "source": []
  }
 ],
 "metadata": {
  "kernelspec": {
   "display_name": "av_query",
   "language": "python",
   "name": "av_query"
  },
  "language_info": {
   "codemirror_mode": {
    "name": "ipython",
    "version": 3
   },
   "file_extension": ".py",
   "mimetype": "text/x-python",
   "name": "python",
   "nbconvert_exporter": "python",
   "pygments_lexer": "ipython3",
   "version": "3.11.0"
  }
 },
 "nbformat": 4,
 "nbformat_minor": 5
}
