{
 "cells": [
  {
   "cell_type": "markdown",
   "id": "cb90f7a1",
   "metadata": {},
   "source": [
    "### Loading Libraries"
   ]
  },
  {
   "cell_type": "code",
   "execution_count": 2,
   "id": "0f425693",
   "metadata": {},
   "outputs": [],
   "source": [
    "import numpy as np\n",
    "import pandas as pd\n",
    "import matplotlib.pyplot as plt\n",
    "import seaborn as sns\n",
    "\n",
    "import os\n",
    "import nltk\n",
    "from nltk.tokenize import word_tokenize\n",
    "from nltk.stem import PorterStemmer, WordNetLemmatizer\n",
    "from nltk.corpus import wordnet\n",
    "from nltk.corpus import stopwords\n",
    "from string import digits \n",
    "import string\n",
    "from textblob import TextBlob\n"
   ]
  },
  {
   "cell_type": "markdown",
   "id": "0181733d",
   "metadata": {},
   "source": [
    "### Loading Datasets"
   ]
  },
  {
   "cell_type": "code",
   "execution_count": 124,
   "id": "61fe043e",
   "metadata": {},
   "outputs": [],
   "source": [
    "test = pd.read_csv(\"../data/test_ZUT1mqB.csv\")\n",
    "train = pd.read_csv(\"../data/train_3.csv\")"
   ]
  },
  {
   "cell_type": "code",
   "execution_count": 125,
   "id": "ac71bf42",
   "metadata": {},
   "outputs": [
    {
     "data": {
      "text/html": [
       "<div>\n",
       "<style scoped>\n",
       "    .dataframe tbody tr th:only-of-type {\n",
       "        vertical-align: middle;\n",
       "    }\n",
       "\n",
       "    .dataframe tbody tr th {\n",
       "        vertical-align: top;\n",
       "    }\n",
       "\n",
       "    .dataframe thead th {\n",
       "        text-align: right;\n",
       "    }\n",
       "</style>\n",
       "<table border=\"1\" class=\"dataframe\">\n",
       "  <thead>\n",
       "    <tr style=\"text-align: right;\">\n",
       "      <th></th>\n",
       "      <th>ID</th>\n",
       "      <th>Title</th>\n",
       "      <th>Domain</th>\n",
       "    </tr>\n",
       "  </thead>\n",
       "  <tbody>\n",
       "    <tr>\n",
       "      <th>0</th>\n",
       "      <td>1</td>\n",
       "      <td>What is good in a decision tree, a large or a ...</td>\n",
       "      <td>Techniques</td>\n",
       "    </tr>\n",
       "    <tr>\n",
       "      <th>1</th>\n",
       "      <td>2</td>\n",
       "      <td>Training data only contains single positive label</td>\n",
       "      <td>Techniques</td>\n",
       "    </tr>\n",
       "    <tr>\n",
       "      <th>2</th>\n",
       "      <td>3</td>\n",
       "      <td>Calculating percentage contribution of a negat...</td>\n",
       "      <td>Techniques</td>\n",
       "    </tr>\n",
       "    <tr>\n",
       "      <th>3</th>\n",
       "      <td>4</td>\n",
       "      <td>Unable to open solution checker!</td>\n",
       "      <td>Hackathons</td>\n",
       "    </tr>\n",
       "    <tr>\n",
       "      <th>4</th>\n",
       "      <td>5</td>\n",
       "      <td>User Name Change</td>\n",
       "      <td>Misc</td>\n",
       "    </tr>\n",
       "  </tbody>\n",
       "</table>\n",
       "</div>"
      ],
      "text/plain": [
       "   ID                                              Title      Domain\n",
       "0   1  What is good in a decision tree, a large or a ...  Techniques\n",
       "1   2  Training data only contains single positive label  Techniques\n",
       "2   3  Calculating percentage contribution of a negat...  Techniques\n",
       "3   4                   Unable to open solution checker!  Hackathons\n",
       "4   5                                   User Name Change        Misc"
      ]
     },
     "execution_count": 125,
     "metadata": {},
     "output_type": "execute_result"
    }
   ],
   "source": [
    "train.head()"
   ]
  },
  {
   "cell_type": "markdown",
   "id": "a63ad85c",
   "metadata": {},
   "source": [
    "#### Checking Counts\n",
    "\n",
    "Dataset contains null values. "
   ]
  },
  {
   "cell_type": "code",
   "execution_count": 126,
   "id": "b9db9176",
   "metadata": {},
   "outputs": [
    {
     "data": {
      "text/plain": [
       "ID        3845\n",
       "Title     3834\n",
       "Domain    3845\n",
       "dtype: int64"
      ]
     },
     "execution_count": 126,
     "metadata": {},
     "output_type": "execute_result"
    }
   ],
   "source": [
    "train.count()"
   ]
  },
  {
   "cell_type": "code",
   "execution_count": 127,
   "id": "ca62137e",
   "metadata": {},
   "outputs": [
    {
     "data": {
      "text/plain": [
       "ID       1649\n",
       "Title    1649\n",
       "dtype: int64"
      ]
     },
     "execution_count": 127,
     "metadata": {},
     "output_type": "execute_result"
    }
   ],
   "source": [
    "test.count()"
   ]
  },
  {
   "cell_type": "markdown",
   "id": "40cd72a3",
   "metadata": {},
   "source": [
    "#### Checking null value counts"
   ]
  },
  {
   "cell_type": "code",
   "execution_count": 128,
   "id": "9dffadbf",
   "metadata": {},
   "outputs": [
    {
     "data": {
      "text/plain": [
       "ID         0\n",
       "Title     11\n",
       "Domain     0\n",
       "dtype: int64"
      ]
     },
     "execution_count": 128,
     "metadata": {},
     "output_type": "execute_result"
    }
   ],
   "source": [
    "train.isna().sum() ##missing fields in gender, married, self employed (var) and dependents, loanamount, loan amount term, credit history"
   ]
  },
  {
   "cell_type": "code",
   "execution_count": 129,
   "id": "d8c8391a",
   "metadata": {},
   "outputs": [
    {
     "data": {
      "text/plain": [
       "ID       0\n",
       "Title    0\n",
       "dtype: int64"
      ]
     },
     "execution_count": 129,
     "metadata": {},
     "output_type": "execute_result"
    }
   ],
   "source": [
    "test.isna().sum()"
   ]
  },
  {
   "cell_type": "markdown",
   "id": "d4a628d4",
   "metadata": {},
   "source": [
    "**Checking proportion of null values** \n",
    "\n",
    "Self Employed and Credit History have more than 5% data missing. Imputing a mean or mode value can create bias in the value. We can either create a new category of unknown or impute based on subgroup"
   ]
  },
  {
   "cell_type": "code",
   "execution_count": 130,
   "id": "802072d3",
   "metadata": {},
   "outputs": [
    {
     "data": {
      "text/plain": [
       "ID        0.000000\n",
       "Title     0.286907\n",
       "Domain    0.000000\n",
       "dtype: float64"
      ]
     },
     "execution_count": 130,
     "metadata": {},
     "output_type": "execute_result"
    }
   ],
   "source": [
    "(100*train.isna().sum())/train.count() ##less than 0.3% missing fields in title, can drop or can impute mode of domain or doman it self"
   ]
  },
  {
   "cell_type": "code",
   "execution_count": 131,
   "id": "eb7eb343",
   "metadata": {},
   "outputs": [
    {
     "data": {
      "text/plain": [
       "ID       0.0\n",
       "Title    0.0\n",
       "dtype: float64"
      ]
     },
     "execution_count": 131,
     "metadata": {},
     "output_type": "execute_result"
    }
   ],
   "source": [
    "(100*test.isna().sum())/test.count() #no missing field"
   ]
  },
  {
   "cell_type": "code",
   "execution_count": 132,
   "id": "0ca3df8a",
   "metadata": {},
   "outputs": [
    {
     "data": {
      "text/plain": [
       "Techniques    1852\n",
       "Tools          917\n",
       "Career         438\n",
       "Hackathons     264\n",
       "Resources      173\n",
       "Other          125\n",
       "Misc            76\n",
       "Name: Domain, dtype: int64"
      ]
     },
     "execution_count": 132,
     "metadata": {},
     "output_type": "execute_result"
    }
   ],
   "source": [
    "train.Domain.value_counts()"
   ]
  },
  {
   "cell_type": "code",
   "execution_count": 133,
   "id": "2424d032",
   "metadata": {},
   "outputs": [
    {
     "data": {
      "text/plain": [
       "Resources     3\n",
       "Other         3\n",
       "Misc          2\n",
       "Hackathons    2\n",
       "Career        1\n",
       "Name: Domain, dtype: int64"
      ]
     },
     "execution_count": 133,
     "metadata": {},
     "output_type": "execute_result"
    }
   ],
   "source": [
    "##checking what domains have missing title\n",
    "\n",
    "train[train.Title.isna()].Domain.value_counts()"
   ]
  },
  {
   "cell_type": "code",
   "execution_count": 134,
   "id": "b634fc8f",
   "metadata": {},
   "outputs": [],
   "source": [
    "train.dropna(axis=0,inplace = True)"
   ]
  },
  {
   "cell_type": "code",
   "execution_count": 135,
   "id": "7ea47f41",
   "metadata": {},
   "outputs": [
    {
     "data": {
      "text/plain": [
       "ID        0\n",
       "Title     0\n",
       "Domain    0\n",
       "dtype: int64"
      ]
     },
     "execution_count": 135,
     "metadata": {},
     "output_type": "execute_result"
    }
   ],
   "source": [
    "train.isna().sum()"
   ]
  },
  {
   "cell_type": "code",
   "execution_count": 136,
   "id": "0e08203c",
   "metadata": {},
   "outputs": [
    {
     "data": {
      "text/plain": [
       "ID        3834\n",
       "Title     3834\n",
       "Domain    3834\n",
       "dtype: int64"
      ]
     },
     "execution_count": 136,
     "metadata": {},
     "output_type": "execute_result"
    }
   ],
   "source": [
    "train.count()"
   ]
  },
  {
   "cell_type": "markdown",
   "id": "c2b2cd5f",
   "metadata": {},
   "source": [
    "### Extract Keywords and Features from Variables"
   ]
  },
  {
   "cell_type": "code",
   "execution_count": 137,
   "id": "d3ed9049",
   "metadata": {},
   "outputs": [],
   "source": [
    "## Saving the orignal text column before modifications\n",
    "train['original_title'] = train['Title']\n",
    "test['original_title'] = test['Title']"
   ]
  },
  {
   "cell_type": "code",
   "execution_count": 138,
   "id": "bdeaa26e",
   "metadata": {},
   "outputs": [],
   "source": [
    "text_cols = test.select_dtypes(exclude=np.number).columns"
   ]
  },
  {
   "cell_type": "code",
   "execution_count": 139,
   "id": "101a2fd3",
   "metadata": {},
   "outputs": [],
   "source": [
    "## Changing colums to lowercase\n",
    "for col in text_cols:\n",
    "    train[col] = train.apply(lambda x: x[col].lower(),axis=1)\n",
    "    test[col] = test.apply(lambda x: x[col].lower(),axis=1)"
   ]
  },
  {
   "cell_type": "code",
   "execution_count": 140,
   "id": "c90b9c7a",
   "metadata": {},
   "outputs": [],
   "source": [
    "## removing punctuations\n",
    "for col in text_cols:\n",
    "    train[col] = train.apply(lambda x: x[col].translate(str.maketrans('','',string.punctuation)),axis=1)\n",
    "    test[col] = test.apply(lambda x: x[col].translate(str.maketrans('','',string.punctuation)),axis=1)    "
   ]
  },
  {
   "cell_type": "code",
   "execution_count": 141,
   "id": "14bffcd4",
   "metadata": {},
   "outputs": [
    {
     "name": "stderr",
     "output_type": "stream",
     "text": [
      "[nltk_data] Downloading package punkt to /home/apurvasij/nltk_data...\n",
      "[nltk_data]   Package punkt is already up-to-date!\n",
      "[nltk_data] Downloading package wordnet to\n",
      "[nltk_data]     /home/apurvasij/nltk_data...\n",
      "[nltk_data]   Package wordnet is already up-to-date!\n",
      "[nltk_data] Downloading package omw-1.4 to\n",
      "[nltk_data]     /home/apurvasij/nltk_data...\n",
      "[nltk_data]   Package omw-1.4 is already up-to-date!\n"
     ]
    },
    {
     "data": {
      "text/plain": [
       "True"
      ]
     },
     "execution_count": 141,
     "metadata": {},
     "output_type": "execute_result"
    }
   ],
   "source": [
    "nltk.download('punkt')\n",
    "nltk.download('wordnet')\n",
    "nltk.download('omw-1.4')"
   ]
  },
  {
   "cell_type": "code",
   "execution_count": 142,
   "id": "d9b7d790",
   "metadata": {},
   "outputs": [],
   "source": [
    "## Word tokenization\n",
    "train['text_words'] = train.apply(lambda x: word_tokenize(x['Title']),axis=1)\n",
    "test['text_words'] = test.apply(lambda x: word_tokenize(x['Title']),axis=1)"
   ]
  },
  {
   "cell_type": "code",
   "execution_count": 143,
   "id": "60abde3f",
   "metadata": {},
   "outputs": [],
   "source": [
    "## Create new features \n",
    "## Number of digits ( to see if citations are made)\n",
    "\n",
    "def cnt_digits(sentence):\n",
    "    return sum(c.isdigit() for c in sentence)\n",
    "        \n",
    "train['text_digit_cnt'] = train.apply(lambda x: cnt_digits(x.text_words),axis=1)\n",
    "test['text_digit_cnt'] = test.apply(lambda x: cnt_digits(x.text_words),axis=1)"
   ]
  },
  {
   "cell_type": "code",
   "execution_count": 144,
   "id": "07d5297c",
   "metadata": {},
   "outputs": [],
   "source": [
    "## removing digits\n",
    "for col in text_cols:\n",
    "    train[col] = train.apply(lambda x: x[col].translate(str.maketrans('', '', digits)) ,axis=1)\n",
    "    test[col] = test.apply(lambda x: x[col].translate(str.maketrans('', '', digits) ) ,axis=1)"
   ]
  },
  {
   "cell_type": "code",
   "execution_count": 145,
   "id": "e2c5b4f9",
   "metadata": {},
   "outputs": [],
   "source": [
    "## Word tokenization\n",
    "train['text_words'] = train.apply(lambda x: word_tokenize(x['Title']),axis=1)\n",
    "test['text_words'] = test.apply(lambda x: word_tokenize(x['Title']),axis=1)"
   ]
  },
  {
   "cell_type": "code",
   "execution_count": 146,
   "id": "09bb4f84",
   "metadata": {},
   "outputs": [],
   "source": [
    "## lemmatize verbs and nouns\n",
    "## in final model only nouns have been lemmatize, verbs used to indicate polarity\n",
    "\n",
    "def lemmat_words(words,pos):\n",
    "    lemmated = [lemmatizer.lemmatize(word,pos) for word in words]\n",
    "    return lemmated\n",
    "\n",
    "lemmatizer = WordNetLemmatizer()"
   ]
  },
  {
   "cell_type": "code",
   "execution_count": 147,
   "id": "38cba025",
   "metadata": {},
   "outputs": [],
   "source": [
    "train['clean_text_lem'] = train.apply(lambda x: lemmat_words(x['text_words'],pos = wordnet.NOUN),axis=1)\n",
    "test['clean_text_lem'] = test.apply(lambda x: lemmat_words(x['text_words'],pos = wordnet.NOUN),axis=1)"
   ]
  },
  {
   "cell_type": "code",
   "execution_count": 148,
   "id": "42da5e2c",
   "metadata": {},
   "outputs": [
    {
     "name": "stderr",
     "output_type": "stream",
     "text": [
      "[nltk_data] Downloading package stopwords to\n",
      "[nltk_data]     /home/apurvasij/nltk_data...\n",
      "[nltk_data]   Package stopwords is already up-to-date!\n"
     ]
    }
   ],
   "source": [
    "##remove stopwords\n",
    "nltk.download('stopwords')\n",
    "\n",
    "## stop words from nltk module\n",
    "stop_words = list(set(stopwords.words('english')))\n",
    "\n",
    "def rm_stopwords(text_words):\n",
    "    stopped = [w for w in text_words if not w in stop_words]\n",
    "    return stopped\n",
    "\n",
    "train['clean_text_wrds'] = train.apply(lambda x: rm_stopwords(x['clean_text_lem']),axis=1)\n",
    "test['clean_text_wrds'] = test.apply(lambda x: rm_stopwords(x['clean_text_lem']),axis=1)\n",
    "\n",
    "train['clean_text'] = train.apply(lambda x: ' '.join(x['clean_text_wrds']),axis=1)\n",
    "test['clean_text'] = test.apply(lambda x: ' '.join(x['clean_text_wrds']),axis=1)\n"
   ]
  },
  {
   "cell_type": "code",
   "execution_count": 152,
   "id": "671b225e",
   "metadata": {},
   "outputs": [],
   "source": [
    "## Calculate Sentiment\n",
    "def polarity(words):\n",
    "    text = ' '.join([w for w in words])\n",
    "    blob = TextBlob(text)\n",
    "    return(blob.polarity)\n",
    "\n",
    "train['title_polarity'] = train.apply(lambda x: polarity(x['text_words']),axis=1)\n",
    "train['text_polarity'] = train.apply(lambda x: polarity(x['clean_text_wrds']),axis=1)\n",
    "test['title_polarity'] = test.apply(lambda x: polarity(x['text_words']),axis=1)\n",
    "test['text_polarity'] = test.apply(lambda x: polarity(x['clean_text_wrds']),axis=1)"
   ]
  },
  {
   "cell_type": "code",
   "execution_count": 153,
   "id": "351e6596",
   "metadata": {},
   "outputs": [],
   "source": [
    "## length of article\n",
    "train['ttl_wrds'] = train.apply(lambda x: len(x.text_words),axis = 1)\n",
    "test['ttl_wrds'] = test.apply(lambda x: len(x.text_words),axis = 1)"
   ]
  },
  {
   "cell_type": "code",
   "execution_count": 154,
   "id": "faf14b54",
   "metadata": {},
   "outputs": [
    {
     "data": {
      "text/html": [
       "<div>\n",
       "<style scoped>\n",
       "    .dataframe tbody tr th:only-of-type {\n",
       "        vertical-align: middle;\n",
       "    }\n",
       "\n",
       "    .dataframe tbody tr th {\n",
       "        vertical-align: top;\n",
       "    }\n",
       "\n",
       "    .dataframe thead th {\n",
       "        text-align: right;\n",
       "    }\n",
       "</style>\n",
       "<table border=\"1\" class=\"dataframe\">\n",
       "  <thead>\n",
       "    <tr style=\"text-align: right;\">\n",
       "      <th></th>\n",
       "      <th>ID</th>\n",
       "      <th>Title</th>\n",
       "      <th>Domain</th>\n",
       "      <th>original_title</th>\n",
       "      <th>text_words</th>\n",
       "      <th>text_digit_cnt</th>\n",
       "      <th>clean_text_lem</th>\n",
       "      <th>clean_text_wrds</th>\n",
       "      <th>clean_text</th>\n",
       "      <th>title_polarity</th>\n",
       "      <th>text_polarity</th>\n",
       "      <th>ttl_wrds</th>\n",
       "    </tr>\n",
       "  </thead>\n",
       "  <tbody>\n",
       "    <tr>\n",
       "      <th>0</th>\n",
       "      <td>1</td>\n",
       "      <td>what is good in a decision tree a large or a s...</td>\n",
       "      <td>Techniques</td>\n",
       "      <td>what is good in a decision tree a large or a s...</td>\n",
       "      <td>[what, is, good, in, a, decision, tree, a, lar...</td>\n",
       "      <td>0</td>\n",
       "      <td>[what, is, good, in, a, decision, tree, a, lar...</td>\n",
       "      <td>[good, decision, tree, large, small, leaf, size]</td>\n",
       "      <td>good decision tree large small leaf size</td>\n",
       "      <td>0.221429</td>\n",
       "      <td>0.221429</td>\n",
       "      <td>14</td>\n",
       "    </tr>\n",
       "    <tr>\n",
       "      <th>1</th>\n",
       "      <td>2</td>\n",
       "      <td>training data only contains single positive label</td>\n",
       "      <td>Techniques</td>\n",
       "      <td>training data only contains single positive label</td>\n",
       "      <td>[training, data, only, contains, single, posit...</td>\n",
       "      <td>0</td>\n",
       "      <td>[training, data, only, contains, single, posit...</td>\n",
       "      <td>[training, data, contains, single, positive, l...</td>\n",
       "      <td>training data contains single positive label</td>\n",
       "      <td>0.051948</td>\n",
       "      <td>0.077922</td>\n",
       "      <td>7</td>\n",
       "    </tr>\n",
       "    <tr>\n",
       "      <th>2</th>\n",
       "      <td>3</td>\n",
       "      <td>calculating percentage contribution of a negat...</td>\n",
       "      <td>Techniques</td>\n",
       "      <td>calculating percentage contribution of a negat...</td>\n",
       "      <td>[calculating, percentage, contribution, of, a,...</td>\n",
       "      <td>0</td>\n",
       "      <td>[calculating, percentage, contribution, of, a,...</td>\n",
       "      <td>[calculating, percentage, contribution, negati...</td>\n",
       "      <td>calculating percentage contribution negative c...</td>\n",
       "      <td>-0.300000</td>\n",
       "      <td>-0.300000</td>\n",
       "      <td>7</td>\n",
       "    </tr>\n",
       "    <tr>\n",
       "      <th>3</th>\n",
       "      <td>4</td>\n",
       "      <td>unable to open solution checker</td>\n",
       "      <td>Hackathons</td>\n",
       "      <td>unable to open solution checker</td>\n",
       "      <td>[unable, to, open, solution, checker]</td>\n",
       "      <td>0</td>\n",
       "      <td>[unable, to, open, solution, checker]</td>\n",
       "      <td>[unable, open, solution, checker]</td>\n",
       "      <td>unable open solution checker</td>\n",
       "      <td>-0.250000</td>\n",
       "      <td>-0.250000</td>\n",
       "      <td>5</td>\n",
       "    </tr>\n",
       "    <tr>\n",
       "      <th>4</th>\n",
       "      <td>5</td>\n",
       "      <td>user name change</td>\n",
       "      <td>Misc</td>\n",
       "      <td>user name change</td>\n",
       "      <td>[user, name, change]</td>\n",
       "      <td>0</td>\n",
       "      <td>[user, name, change]</td>\n",
       "      <td>[user, name, change]</td>\n",
       "      <td>user name change</td>\n",
       "      <td>0.000000</td>\n",
       "      <td>0.000000</td>\n",
       "      <td>3</td>\n",
       "    </tr>\n",
       "  </tbody>\n",
       "</table>\n",
       "</div>"
      ],
      "text/plain": [
       "   ID                                              Title      Domain  \\\n",
       "0   1  what is good in a decision tree a large or a s...  Techniques   \n",
       "1   2  training data only contains single positive label  Techniques   \n",
       "2   3  calculating percentage contribution of a negat...  Techniques   \n",
       "3   4                    unable to open solution checker  Hackathons   \n",
       "4   5                                   user name change        Misc   \n",
       "\n",
       "                                      original_title  \\\n",
       "0  what is good in a decision tree a large or a s...   \n",
       "1  training data only contains single positive label   \n",
       "2  calculating percentage contribution of a negat...   \n",
       "3                    unable to open solution checker   \n",
       "4                                   user name change   \n",
       "\n",
       "                                          text_words  text_digit_cnt  \\\n",
       "0  [what, is, good, in, a, decision, tree, a, lar...               0   \n",
       "1  [training, data, only, contains, single, posit...               0   \n",
       "2  [calculating, percentage, contribution, of, a,...               0   \n",
       "3              [unable, to, open, solution, checker]               0   \n",
       "4                               [user, name, change]               0   \n",
       "\n",
       "                                      clean_text_lem  \\\n",
       "0  [what, is, good, in, a, decision, tree, a, lar...   \n",
       "1  [training, data, only, contains, single, posit...   \n",
       "2  [calculating, percentage, contribution, of, a,...   \n",
       "3              [unable, to, open, solution, checker]   \n",
       "4                               [user, name, change]   \n",
       "\n",
       "                                     clean_text_wrds  \\\n",
       "0   [good, decision, tree, large, small, leaf, size]   \n",
       "1  [training, data, contains, single, positive, l...   \n",
       "2  [calculating, percentage, contribution, negati...   \n",
       "3                  [unable, open, solution, checker]   \n",
       "4                               [user, name, change]   \n",
       "\n",
       "                                          clean_text  title_polarity  \\\n",
       "0           good decision tree large small leaf size        0.221429   \n",
       "1       training data contains single positive label        0.051948   \n",
       "2  calculating percentage contribution negative c...       -0.300000   \n",
       "3                       unable open solution checker       -0.250000   \n",
       "4                                   user name change        0.000000   \n",
       "\n",
       "   text_polarity  ttl_wrds  \n",
       "0       0.221429        14  \n",
       "1       0.077922         7  \n",
       "2      -0.300000         7  \n",
       "3      -0.250000         5  \n",
       "4       0.000000         3  "
      ]
     },
     "execution_count": 154,
     "metadata": {},
     "output_type": "execute_result"
    }
   ],
   "source": [
    "train.head()"
   ]
  },
  {
   "cell_type": "code",
   "execution_count": 155,
   "id": "0e6459d2",
   "metadata": {},
   "outputs": [
    {
     "data": {
      "text/plain": [
       "0    3642\n",
       "1     162\n",
       "2      28\n",
       "4       1\n",
       "6       1\n",
       "Name: text_digit_cnt, dtype: int64"
      ]
     },
     "execution_count": 155,
     "metadata": {},
     "output_type": "execute_result"
    }
   ],
   "source": [
    "train.text_digit_cnt.value_counts()"
   ]
  },
  {
   "cell_type": "code",
   "execution_count": 156,
   "id": "3b2a9784",
   "metadata": {},
   "outputs": [
    {
     "data": {
      "text/html": [
       "<div>\n",
       "<style scoped>\n",
       "    .dataframe tbody tr th:only-of-type {\n",
       "        vertical-align: middle;\n",
       "    }\n",
       "\n",
       "    .dataframe tbody tr th {\n",
       "        vertical-align: top;\n",
       "    }\n",
       "\n",
       "    .dataframe thead th {\n",
       "        text-align: right;\n",
       "    }\n",
       "</style>\n",
       "<table border=\"1\" class=\"dataframe\">\n",
       "  <thead>\n",
       "    <tr style=\"text-align: right;\">\n",
       "      <th>Domain</th>\n",
       "      <th>Career</th>\n",
       "      <th>Hackathons</th>\n",
       "      <th>Misc</th>\n",
       "      <th>Other</th>\n",
       "      <th>Resources</th>\n",
       "      <th>Techniques</th>\n",
       "      <th>Tools</th>\n",
       "    </tr>\n",
       "    <tr>\n",
       "      <th>text_digit_cnt</th>\n",
       "      <th></th>\n",
       "      <th></th>\n",
       "      <th></th>\n",
       "      <th></th>\n",
       "      <th></th>\n",
       "      <th></th>\n",
       "      <th></th>\n",
       "    </tr>\n",
       "  </thead>\n",
       "  <tbody>\n",
       "    <tr>\n",
       "      <th>0</th>\n",
       "      <td>411.0</td>\n",
       "      <td>230.0</td>\n",
       "      <td>64.0</td>\n",
       "      <td>116.0</td>\n",
       "      <td>151.0</td>\n",
       "      <td>1795.0</td>\n",
       "      <td>875.0</td>\n",
       "    </tr>\n",
       "    <tr>\n",
       "      <th>1</th>\n",
       "      <td>26.0</td>\n",
       "      <td>28.0</td>\n",
       "      <td>9.0</td>\n",
       "      <td>5.0</td>\n",
       "      <td>15.0</td>\n",
       "      <td>45.0</td>\n",
       "      <td>34.0</td>\n",
       "    </tr>\n",
       "    <tr>\n",
       "      <th>2</th>\n",
       "      <td>NaN</td>\n",
       "      <td>4.0</td>\n",
       "      <td>NaN</td>\n",
       "      <td>1.0</td>\n",
       "      <td>4.0</td>\n",
       "      <td>12.0</td>\n",
       "      <td>7.0</td>\n",
       "    </tr>\n",
       "    <tr>\n",
       "      <th>4</th>\n",
       "      <td>NaN</td>\n",
       "      <td>NaN</td>\n",
       "      <td>NaN</td>\n",
       "      <td>NaN</td>\n",
       "      <td>NaN</td>\n",
       "      <td>NaN</td>\n",
       "      <td>1.0</td>\n",
       "    </tr>\n",
       "    <tr>\n",
       "      <th>6</th>\n",
       "      <td>NaN</td>\n",
       "      <td>NaN</td>\n",
       "      <td>1.0</td>\n",
       "      <td>NaN</td>\n",
       "      <td>NaN</td>\n",
       "      <td>NaN</td>\n",
       "      <td>NaN</td>\n",
       "    </tr>\n",
       "  </tbody>\n",
       "</table>\n",
       "</div>"
      ],
      "text/plain": [
       "Domain          Career  Hackathons  Misc  Other  Resources  Techniques  Tools\n",
       "text_digit_cnt                                                               \n",
       "0                411.0       230.0  64.0  116.0      151.0      1795.0  875.0\n",
       "1                 26.0        28.0   9.0    5.0       15.0        45.0   34.0\n",
       "2                  NaN         4.0   NaN    1.0        4.0        12.0    7.0\n",
       "4                  NaN         NaN   NaN    NaN        NaN         NaN    1.0\n",
       "6                  NaN         NaN   1.0    NaN        NaN         NaN    NaN"
      ]
     },
     "execution_count": 156,
     "metadata": {},
     "output_type": "execute_result"
    }
   ],
   "source": [
    "pd.pivot_table(train, index = \"text_digit_cnt\", columns = \"Domain\", values = \"ID\",aggfunc=\"count\")"
   ]
  },
  {
   "cell_type": "code",
   "execution_count": 157,
   "id": "9747bd4c",
   "metadata": {},
   "outputs": [
    {
     "data": {
      "text/html": [
       "<div>\n",
       "<style scoped>\n",
       "    .dataframe tbody tr th:only-of-type {\n",
       "        vertical-align: middle;\n",
       "    }\n",
       "\n",
       "    .dataframe tbody tr th {\n",
       "        vertical-align: top;\n",
       "    }\n",
       "\n",
       "    .dataframe thead th {\n",
       "        text-align: right;\n",
       "    }\n",
       "</style>\n",
       "<table border=\"1\" class=\"dataframe\">\n",
       "  <thead>\n",
       "    <tr style=\"text-align: right;\">\n",
       "      <th></th>\n",
       "      <th>ID</th>\n",
       "      <th>Title</th>\n",
       "      <th>original_title</th>\n",
       "      <th>text_words</th>\n",
       "      <th>text_digit_cnt</th>\n",
       "      <th>clean_text_lem</th>\n",
       "      <th>clean_text_wrds</th>\n",
       "      <th>clean_text</th>\n",
       "      <th>title_polarity</th>\n",
       "      <th>text_polarity</th>\n",
       "      <th>ttl_wrds</th>\n",
       "    </tr>\n",
       "  </thead>\n",
       "  <tbody>\n",
       "    <tr>\n",
       "      <th>0</th>\n",
       "      <td>3846</td>\n",
       "      <td>spark cheatsheet</td>\n",
       "      <td>spark cheatsheet</td>\n",
       "      <td>[spark, cheatsheet]</td>\n",
       "      <td>0</td>\n",
       "      <td>[spark, cheatsheet]</td>\n",
       "      <td>[spark, cheatsheet]</td>\n",
       "      <td>spark cheatsheet</td>\n",
       "      <td>0.000000</td>\n",
       "      <td>0.000000</td>\n",
       "      <td>2</td>\n",
       "    </tr>\n",
       "    <tr>\n",
       "      <th>1</th>\n",
       "      <td>3847</td>\n",
       "      <td>review of random forest code in python</td>\n",
       "      <td>review of random forest code in python</td>\n",
       "      <td>[review, of, random, forest, code, in, python]</td>\n",
       "      <td>0</td>\n",
       "      <td>[review, of, random, forest, code, in, python]</td>\n",
       "      <td>[review, random, forest, code, python]</td>\n",
       "      <td>review random forest code python</td>\n",
       "      <td>-0.500000</td>\n",
       "      <td>-0.500000</td>\n",
       "      <td>7</td>\n",
       "    </tr>\n",
       "    <tr>\n",
       "      <th>2</th>\n",
       "      <td>3848</td>\n",
       "      <td>chisq test for numeric variables</td>\n",
       "      <td>chisq test for numeric variables</td>\n",
       "      <td>[chisq, test, for, numeric, variables]</td>\n",
       "      <td>0</td>\n",
       "      <td>[chisq, test, for, numeric, variable]</td>\n",
       "      <td>[chisq, test, numeric, variable]</td>\n",
       "      <td>chisq test numeric variable</td>\n",
       "      <td>0.000000</td>\n",
       "      <td>0.000000</td>\n",
       "      <td>5</td>\n",
       "    </tr>\n",
       "    <tr>\n",
       "      <th>3</th>\n",
       "      <td>3849</td>\n",
       "      <td>prediction from loaded pickled file for single...</td>\n",
       "      <td>prediction from loaded pickled file for single...</td>\n",
       "      <td>[prediction, from, loaded, pickled, file, for,...</td>\n",
       "      <td>0</td>\n",
       "      <td>[prediction, from, loaded, pickled, file, for,...</td>\n",
       "      <td>[prediction, loaded, pickled, file, single, in...</td>\n",
       "      <td>prediction loaded pickled file single instance...</td>\n",
       "      <td>-0.071429</td>\n",
       "      <td>-0.071429</td>\n",
       "      <td>10</td>\n",
       "    </tr>\n",
       "    <tr>\n",
       "      <th>4</th>\n",
       "      <td>3850</td>\n",
       "      <td>even after installing anaconda on my pc i am u...</td>\n",
       "      <td>even after installing anaconda on my pc i am u...</td>\n",
       "      <td>[even, after, installing, anaconda, on, my, pc...</td>\n",
       "      <td>0</td>\n",
       "      <td>[even, after, installing, anaconda, on, my, pc...</td>\n",
       "      <td>[even, installing, anaconda, pc, unable, acces...</td>\n",
       "      <td>even installing anaconda pc unable access jupy...</td>\n",
       "      <td>-0.500000</td>\n",
       "      <td>-0.500000</td>\n",
       "      <td>18</td>\n",
       "    </tr>\n",
       "  </tbody>\n",
       "</table>\n",
       "</div>"
      ],
      "text/plain": [
       "     ID                                              Title  \\\n",
       "0  3846                                   spark cheatsheet   \n",
       "1  3847             review of random forest code in python   \n",
       "2  3848                   chisq test for numeric variables   \n",
       "3  3849  prediction from loaded pickled file for single...   \n",
       "4  3850  even after installing anaconda on my pc i am u...   \n",
       "\n",
       "                                      original_title  \\\n",
       "0                                   spark cheatsheet   \n",
       "1             review of random forest code in python   \n",
       "2                   chisq test for numeric variables   \n",
       "3  prediction from loaded pickled file for single...   \n",
       "4  even after installing anaconda on my pc i am u...   \n",
       "\n",
       "                                          text_words  text_digit_cnt  \\\n",
       "0                                [spark, cheatsheet]               0   \n",
       "1     [review, of, random, forest, code, in, python]               0   \n",
       "2             [chisq, test, for, numeric, variables]               0   \n",
       "3  [prediction, from, loaded, pickled, file, for,...               0   \n",
       "4  [even, after, installing, anaconda, on, my, pc...               0   \n",
       "\n",
       "                                      clean_text_lem  \\\n",
       "0                                [spark, cheatsheet]   \n",
       "1     [review, of, random, forest, code, in, python]   \n",
       "2              [chisq, test, for, numeric, variable]   \n",
       "3  [prediction, from, loaded, pickled, file, for,...   \n",
       "4  [even, after, installing, anaconda, on, my, pc...   \n",
       "\n",
       "                                     clean_text_wrds  \\\n",
       "0                                [spark, cheatsheet]   \n",
       "1             [review, random, forest, code, python]   \n",
       "2                   [chisq, test, numeric, variable]   \n",
       "3  [prediction, loaded, pickled, file, single, in...   \n",
       "4  [even, installing, anaconda, pc, unable, acces...   \n",
       "\n",
       "                                          clean_text  title_polarity  \\\n",
       "0                                   spark cheatsheet        0.000000   \n",
       "1                   review random forest code python       -0.500000   \n",
       "2                        chisq test numeric variable        0.000000   \n",
       "3  prediction loaded pickled file single instance...       -0.071429   \n",
       "4  even installing anaconda pc unable access jupy...       -0.500000   \n",
       "\n",
       "   text_polarity  ttl_wrds  \n",
       "0       0.000000         2  \n",
       "1      -0.500000         7  \n",
       "2       0.000000         5  \n",
       "3      -0.071429        10  \n",
       "4      -0.500000        18  "
      ]
     },
     "execution_count": 157,
     "metadata": {},
     "output_type": "execute_result"
    }
   ],
   "source": [
    "test.head()"
   ]
  },
  {
   "cell_type": "code",
   "execution_count": 158,
   "id": "c1145a2d",
   "metadata": {},
   "outputs": [
    {
     "data": {
      "text/html": [
       "<div>\n",
       "<style scoped>\n",
       "    .dataframe tbody tr th:only-of-type {\n",
       "        vertical-align: middle;\n",
       "    }\n",
       "\n",
       "    .dataframe tbody tr th {\n",
       "        vertical-align: top;\n",
       "    }\n",
       "\n",
       "    .dataframe thead th {\n",
       "        text-align: right;\n",
       "    }\n",
       "</style>\n",
       "<table border=\"1\" class=\"dataframe\">\n",
       "  <thead>\n",
       "    <tr style=\"text-align: right;\">\n",
       "      <th></th>\n",
       "      <th>ID</th>\n",
       "    </tr>\n",
       "    <tr>\n",
       "      <th>text_digit_cnt</th>\n",
       "      <th></th>\n",
       "    </tr>\n",
       "  </thead>\n",
       "  <tbody>\n",
       "    <tr>\n",
       "      <th>0</th>\n",
       "      <td>1581</td>\n",
       "    </tr>\n",
       "    <tr>\n",
       "      <th>1</th>\n",
       "      <td>62</td>\n",
       "    </tr>\n",
       "    <tr>\n",
       "      <th>2</th>\n",
       "      <td>6</td>\n",
       "    </tr>\n",
       "  </tbody>\n",
       "</table>\n",
       "</div>"
      ],
      "text/plain": [
       "                  ID\n",
       "text_digit_cnt      \n",
       "0               1581\n",
       "1                 62\n",
       "2                  6"
      ]
     },
     "execution_count": 158,
     "metadata": {},
     "output_type": "execute_result"
    }
   ],
   "source": [
    "pd.pivot_table(test, index = \"text_digit_cnt\", values = \"ID\",aggfunc=\"count\")"
   ]
  },
  {
   "cell_type": "code",
   "execution_count": 159,
   "id": "557f70ae",
   "metadata": {},
   "outputs": [
    {
     "data": {
      "text/html": [
       "<div>\n",
       "<style scoped>\n",
       "    .dataframe tbody tr th:only-of-type {\n",
       "        vertical-align: middle;\n",
       "    }\n",
       "\n",
       "    .dataframe tbody tr th {\n",
       "        vertical-align: top;\n",
       "    }\n",
       "\n",
       "    .dataframe thead th {\n",
       "        text-align: right;\n",
       "    }\n",
       "</style>\n",
       "<table border=\"1\" class=\"dataframe\">\n",
       "  <thead>\n",
       "    <tr style=\"text-align: right;\">\n",
       "      <th>Domain</th>\n",
       "      <th>Career</th>\n",
       "      <th>Hackathons</th>\n",
       "      <th>Misc</th>\n",
       "      <th>Other</th>\n",
       "      <th>Resources</th>\n",
       "      <th>Techniques</th>\n",
       "      <th>Tools</th>\n",
       "    </tr>\n",
       "    <tr>\n",
       "      <th>ttl_wrds</th>\n",
       "      <th></th>\n",
       "      <th></th>\n",
       "      <th></th>\n",
       "      <th></th>\n",
       "      <th></th>\n",
       "      <th></th>\n",
       "      <th></th>\n",
       "    </tr>\n",
       "  </thead>\n",
       "  <tbody>\n",
       "    <tr>\n",
       "      <th>1</th>\n",
       "      <td>1.0</td>\n",
       "      <td>1.0</td>\n",
       "      <td>NaN</td>\n",
       "      <td>NaN</td>\n",
       "      <td>NaN</td>\n",
       "      <td>3.0</td>\n",
       "      <td>NaN</td>\n",
       "    </tr>\n",
       "    <tr>\n",
       "      <th>2</th>\n",
       "      <td>13.0</td>\n",
       "      <td>6.0</td>\n",
       "      <td>5.0</td>\n",
       "      <td>6.0</td>\n",
       "      <td>2.0</td>\n",
       "      <td>73.0</td>\n",
       "      <td>6.0</td>\n",
       "    </tr>\n",
       "    <tr>\n",
       "      <th>3</th>\n",
       "      <td>20.0</td>\n",
       "      <td>30.0</td>\n",
       "      <td>6.0</td>\n",
       "      <td>6.0</td>\n",
       "      <td>14.0</td>\n",
       "      <td>111.0</td>\n",
       "      <td>30.0</td>\n",
       "    </tr>\n",
       "    <tr>\n",
       "      <th>4</th>\n",
       "      <td>31.0</td>\n",
       "      <td>27.0</td>\n",
       "      <td>4.0</td>\n",
       "      <td>12.0</td>\n",
       "      <td>28.0</td>\n",
       "      <td>194.0</td>\n",
       "      <td>53.0</td>\n",
       "    </tr>\n",
       "    <tr>\n",
       "      <th>5</th>\n",
       "      <td>47.0</td>\n",
       "      <td>41.0</td>\n",
       "      <td>13.0</td>\n",
       "      <td>22.0</td>\n",
       "      <td>22.0</td>\n",
       "      <td>196.0</td>\n",
       "      <td>61.0</td>\n",
       "    </tr>\n",
       "    <tr>\n",
       "      <th>6</th>\n",
       "      <td>50.0</td>\n",
       "      <td>44.0</td>\n",
       "      <td>5.0</td>\n",
       "      <td>9.0</td>\n",
       "      <td>21.0</td>\n",
       "      <td>181.0</td>\n",
       "      <td>90.0</td>\n",
       "    </tr>\n",
       "    <tr>\n",
       "      <th>7</th>\n",
       "      <td>59.0</td>\n",
       "      <td>34.0</td>\n",
       "      <td>10.0</td>\n",
       "      <td>14.0</td>\n",
       "      <td>16.0</td>\n",
       "      <td>183.0</td>\n",
       "      <td>101.0</td>\n",
       "    </tr>\n",
       "    <tr>\n",
       "      <th>8</th>\n",
       "      <td>55.0</td>\n",
       "      <td>20.0</td>\n",
       "      <td>4.0</td>\n",
       "      <td>13.0</td>\n",
       "      <td>9.0</td>\n",
       "      <td>206.0</td>\n",
       "      <td>97.0</td>\n",
       "    </tr>\n",
       "    <tr>\n",
       "      <th>9</th>\n",
       "      <td>35.0</td>\n",
       "      <td>15.0</td>\n",
       "      <td>7.0</td>\n",
       "      <td>6.0</td>\n",
       "      <td>15.0</td>\n",
       "      <td>158.0</td>\n",
       "      <td>91.0</td>\n",
       "    </tr>\n",
       "    <tr>\n",
       "      <th>10</th>\n",
       "      <td>28.0</td>\n",
       "      <td>18.0</td>\n",
       "      <td>8.0</td>\n",
       "      <td>11.0</td>\n",
       "      <td>10.0</td>\n",
       "      <td>141.0</td>\n",
       "      <td>99.0</td>\n",
       "    </tr>\n",
       "    <tr>\n",
       "      <th>11</th>\n",
       "      <td>29.0</td>\n",
       "      <td>6.0</td>\n",
       "      <td>3.0</td>\n",
       "      <td>7.0</td>\n",
       "      <td>12.0</td>\n",
       "      <td>113.0</td>\n",
       "      <td>82.0</td>\n",
       "    </tr>\n",
       "    <tr>\n",
       "      <th>12</th>\n",
       "      <td>12.0</td>\n",
       "      <td>9.0</td>\n",
       "      <td>4.0</td>\n",
       "      <td>8.0</td>\n",
       "      <td>7.0</td>\n",
       "      <td>91.0</td>\n",
       "      <td>65.0</td>\n",
       "    </tr>\n",
       "    <tr>\n",
       "      <th>13</th>\n",
       "      <td>14.0</td>\n",
       "      <td>2.0</td>\n",
       "      <td>2.0</td>\n",
       "      <td>1.0</td>\n",
       "      <td>6.0</td>\n",
       "      <td>56.0</td>\n",
       "      <td>52.0</td>\n",
       "    </tr>\n",
       "    <tr>\n",
       "      <th>14</th>\n",
       "      <td>14.0</td>\n",
       "      <td>3.0</td>\n",
       "      <td>1.0</td>\n",
       "      <td>1.0</td>\n",
       "      <td>NaN</td>\n",
       "      <td>49.0</td>\n",
       "      <td>28.0</td>\n",
       "    </tr>\n",
       "    <tr>\n",
       "      <th>15</th>\n",
       "      <td>8.0</td>\n",
       "      <td>4.0</td>\n",
       "      <td>1.0</td>\n",
       "      <td>3.0</td>\n",
       "      <td>5.0</td>\n",
       "      <td>28.0</td>\n",
       "      <td>20.0</td>\n",
       "    </tr>\n",
       "    <tr>\n",
       "      <th>16</th>\n",
       "      <td>5.0</td>\n",
       "      <td>NaN</td>\n",
       "      <td>1.0</td>\n",
       "      <td>NaN</td>\n",
       "      <td>2.0</td>\n",
       "      <td>19.0</td>\n",
       "      <td>15.0</td>\n",
       "    </tr>\n",
       "    <tr>\n",
       "      <th>17</th>\n",
       "      <td>4.0</td>\n",
       "      <td>1.0</td>\n",
       "      <td>NaN</td>\n",
       "      <td>3.0</td>\n",
       "      <td>NaN</td>\n",
       "      <td>17.0</td>\n",
       "      <td>8.0</td>\n",
       "    </tr>\n",
       "    <tr>\n",
       "      <th>18</th>\n",
       "      <td>1.0</td>\n",
       "      <td>NaN</td>\n",
       "      <td>NaN</td>\n",
       "      <td>NaN</td>\n",
       "      <td>NaN</td>\n",
       "      <td>15.0</td>\n",
       "      <td>10.0</td>\n",
       "    </tr>\n",
       "    <tr>\n",
       "      <th>19</th>\n",
       "      <td>1.0</td>\n",
       "      <td>NaN</td>\n",
       "      <td>NaN</td>\n",
       "      <td>NaN</td>\n",
       "      <td>1.0</td>\n",
       "      <td>5.0</td>\n",
       "      <td>3.0</td>\n",
       "    </tr>\n",
       "    <tr>\n",
       "      <th>20</th>\n",
       "      <td>4.0</td>\n",
       "      <td>NaN</td>\n",
       "      <td>NaN</td>\n",
       "      <td>NaN</td>\n",
       "      <td>NaN</td>\n",
       "      <td>9.0</td>\n",
       "      <td>NaN</td>\n",
       "    </tr>\n",
       "    <tr>\n",
       "      <th>21</th>\n",
       "      <td>3.0</td>\n",
       "      <td>1.0</td>\n",
       "      <td>NaN</td>\n",
       "      <td>NaN</td>\n",
       "      <td>NaN</td>\n",
       "      <td>2.0</td>\n",
       "      <td>3.0</td>\n",
       "    </tr>\n",
       "    <tr>\n",
       "      <th>22</th>\n",
       "      <td>1.0</td>\n",
       "      <td>NaN</td>\n",
       "      <td>NaN</td>\n",
       "      <td>NaN</td>\n",
       "      <td>NaN</td>\n",
       "      <td>1.0</td>\n",
       "      <td>1.0</td>\n",
       "    </tr>\n",
       "    <tr>\n",
       "      <th>23</th>\n",
       "      <td>NaN</td>\n",
       "      <td>NaN</td>\n",
       "      <td>NaN</td>\n",
       "      <td>NaN</td>\n",
       "      <td>NaN</td>\n",
       "      <td>NaN</td>\n",
       "      <td>1.0</td>\n",
       "    </tr>\n",
       "    <tr>\n",
       "      <th>24</th>\n",
       "      <td>1.0</td>\n",
       "      <td>NaN</td>\n",
       "      <td>NaN</td>\n",
       "      <td>NaN</td>\n",
       "      <td>NaN</td>\n",
       "      <td>1.0</td>\n",
       "      <td>1.0</td>\n",
       "    </tr>\n",
       "    <tr>\n",
       "      <th>25</th>\n",
       "      <td>1.0</td>\n",
       "      <td>NaN</td>\n",
       "      <td>NaN</td>\n",
       "      <td>NaN</td>\n",
       "      <td>NaN</td>\n",
       "      <td>NaN</td>\n",
       "      <td>NaN</td>\n",
       "    </tr>\n",
       "  </tbody>\n",
       "</table>\n",
       "</div>"
      ],
      "text/plain": [
       "Domain    Career  Hackathons  Misc  Other  Resources  Techniques  Tools\n",
       "ttl_wrds                                                               \n",
       "1            1.0         1.0   NaN    NaN        NaN         3.0    NaN\n",
       "2           13.0         6.0   5.0    6.0        2.0        73.0    6.0\n",
       "3           20.0        30.0   6.0    6.0       14.0       111.0   30.0\n",
       "4           31.0        27.0   4.0   12.0       28.0       194.0   53.0\n",
       "5           47.0        41.0  13.0   22.0       22.0       196.0   61.0\n",
       "6           50.0        44.0   5.0    9.0       21.0       181.0   90.0\n",
       "7           59.0        34.0  10.0   14.0       16.0       183.0  101.0\n",
       "8           55.0        20.0   4.0   13.0        9.0       206.0   97.0\n",
       "9           35.0        15.0   7.0    6.0       15.0       158.0   91.0\n",
       "10          28.0        18.0   8.0   11.0       10.0       141.0   99.0\n",
       "11          29.0         6.0   3.0    7.0       12.0       113.0   82.0\n",
       "12          12.0         9.0   4.0    8.0        7.0        91.0   65.0\n",
       "13          14.0         2.0   2.0    1.0        6.0        56.0   52.0\n",
       "14          14.0         3.0   1.0    1.0        NaN        49.0   28.0\n",
       "15           8.0         4.0   1.0    3.0        5.0        28.0   20.0\n",
       "16           5.0         NaN   1.0    NaN        2.0        19.0   15.0\n",
       "17           4.0         1.0   NaN    3.0        NaN        17.0    8.0\n",
       "18           1.0         NaN   NaN    NaN        NaN        15.0   10.0\n",
       "19           1.0         NaN   NaN    NaN        1.0         5.0    3.0\n",
       "20           4.0         NaN   NaN    NaN        NaN         9.0    NaN\n",
       "21           3.0         1.0   NaN    NaN        NaN         2.0    3.0\n",
       "22           1.0         NaN   NaN    NaN        NaN         1.0    1.0\n",
       "23           NaN         NaN   NaN    NaN        NaN         NaN    1.0\n",
       "24           1.0         NaN   NaN    NaN        NaN         1.0    1.0\n",
       "25           1.0         NaN   NaN    NaN        NaN         NaN    NaN"
      ]
     },
     "execution_count": 159,
     "metadata": {},
     "output_type": "execute_result"
    }
   ],
   "source": [
    "pd.pivot_table(train, index = \"ttl_wrds\", columns = \"Domain\", values = \"ID\",aggfunc=\"count\")"
   ]
  },
  {
   "cell_type": "code",
   "execution_count": 3,
   "id": "e78f8c2c",
   "metadata": {},
   "outputs": [],
   "source": [
    "train = pd.read_csv('../data/train_cleaned.csv')\n",
    "test = pd.read_csv('../data/test_cleaned.csv')"
   ]
  },
  {
   "cell_type": "code",
   "execution_count": 5,
   "id": "85fe3774",
   "metadata": {},
   "outputs": [],
   "source": [
    "train['char_count'] = train['clean_text'].apply(len)\n",
    "train['word_density'] = train['char_count'] / (train['ttl_wrds']+1)\n",
    "train['punctuation_count'] = train['original_title'].apply(lambda x: len(\"\".join(_ for _ in x if _ in string.punctuation))) \n",
    "train['title_word_count'] = train['original_title'].apply(lambda x: len([wrd for wrd in x.split() if wrd.istitle()]))\n",
    "train['upper_case_word_count'] = train['original_title'].apply(lambda x: len([wrd for wrd in x.split() if wrd.isupper()]))\n",
    "\n",
    "test['char_count'] = test['clean_text'].apply(len)\n",
    "test['word_density'] = test['char_count'] / (test['ttl_wrds']+1)\n",
    "test['punctuation_count'] = test['original_title'].apply(lambda x: len(\"\".join(_ for _ in x if _ in string.punctuation))) \n",
    "test['title_word_count'] = test['original_title'].apply(lambda x: len([wrd for wrd in x.split() if wrd.istitle()]))\n",
    "test['upper_case_word_count'] = test['original_title'].apply(lambda x: len([wrd for wrd in x.split() if wrd.isupper()]))"
   ]
  },
  {
   "cell_type": "code",
   "execution_count": 7,
   "id": "d19269e8",
   "metadata": {},
   "outputs": [],
   "source": [
    "pos_family = {\n",
    "    'noun' : ['NN','NNS','NNP','NNPS'],\n",
    "    'pron' : ['PRP','PRP$','WP','WP$'],\n",
    "    'verb' : ['VB','VBD','VBG','VBN','VBP','VBZ'],\n",
    "    'adj' :  ['JJ','JJR','JJS'],\n",
    "    'adv' : ['RB','RBR','RBS','WRB']\n",
    "}\n",
    "\n",
    "# function to check and get the part of speech tag count of a words in a given sentence\n",
    "def check_pos_tag(x, flag):\n",
    "    cnt = 0\n",
    "    try:\n",
    "        wiki = textblob.TextBlob(x)\n",
    "        for tup in wiki.tags:\n",
    "            ppo = list(tup)[1]\n",
    "            if ppo in pos_family[flag]:\n",
    "                cnt += 1\n",
    "    except:\n",
    "        pass\n",
    "    return cnt\n",
    "\n",
    "train['noun_count'] = train['original_title'].apply(lambda x: check_pos_tag(x, 'noun'))\n",
    "train['verb_count'] = train['original_title'].apply(lambda x: check_pos_tag(x, 'verb'))\n",
    "train['adj_count'] = train['original_title'].apply(lambda x: check_pos_tag(x, 'adj'))\n",
    "train['adv_count'] = train['original_title'].apply(lambda x: check_pos_tag(x, 'adv'))\n",
    "train['pron_count'] = train['original_title'].apply(lambda x: check_pos_tag(x, 'pron'))\n",
    "\n",
    "test['noun_count'] = test['original_title'].apply(lambda x: check_pos_tag(x, 'noun'))\n",
    "test['verb_count'] = test['original_title'].apply(lambda x: check_pos_tag(x, 'verb'))\n",
    "test['adj_count'] = test['original_title'].apply(lambda x: check_pos_tag(x, 'adj'))\n",
    "test['adv_count'] = test['original_title'].apply(lambda x: check_pos_tag(x, 'adv'))\n",
    "test['pron_count'] = test['original_title'].apply(lambda x: check_pos_tag(x, 'pron'))"
   ]
  },
  {
   "cell_type": "code",
   "execution_count": 8,
   "id": "b24e2ee1",
   "metadata": {},
   "outputs": [],
   "source": [
    "##Saving data\n",
    "train.to_csv('../data/train_cleaned.csv',index= False)\n",
    "test.to_csv('../data/test_cleaned.csv',index= False)"
   ]
  }
 ],
 "metadata": {
  "kernelspec": {
   "display_name": "av_query",
   "language": "python",
   "name": "av_query"
  },
  "language_info": {
   "codemirror_mode": {
    "name": "ipython",
    "version": 3
   },
   "file_extension": ".py",
   "mimetype": "text/x-python",
   "name": "python",
   "nbconvert_exporter": "python",
   "pygments_lexer": "ipython3",
   "version": "3.11.0"
  }
 },
 "nbformat": 4,
 "nbformat_minor": 5
}
